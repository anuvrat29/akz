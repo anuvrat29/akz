{
  "cells": [
    {
      "cell_type": "code",
      "source": [
        "!nvidia-smi"
      ],
      "metadata": {
        "colab": {
          "base_uri": "https://localhost:8080/"
        },
        "id": "rIO_RndUpCB2",
        "outputId": "1a9eb7ab-028e-416f-ca5b-f8c3962d23f2"
      },
      "execution_count": null,
      "outputs": [
        {
          "output_type": "stream",
          "name": "stdout",
          "text": [
            "Mon May 30 06:15:48 2022       \n",
            "+-----------------------------------------------------------------------------+\n",
            "| NVIDIA-SMI 460.32.03    Driver Version: 460.32.03    CUDA Version: 11.2     |\n",
            "|-------------------------------+----------------------+----------------------+\n",
            "| GPU  Name        Persistence-M| Bus-Id        Disp.A | Volatile Uncorr. ECC |\n",
            "| Fan  Temp  Perf  Pwr:Usage/Cap|         Memory-Usage | GPU-Util  Compute M. |\n",
            "|                               |                      |               MIG M. |\n",
            "|===============================+======================+======================|\n",
            "|   0  Tesla T4            Off  | 00000000:00:04.0 Off |                    0 |\n",
            "| N/A   44C    P8    10W /  70W |      0MiB / 15109MiB |      0%      Default |\n",
            "|                               |                      |                  N/A |\n",
            "+-------------------------------+----------------------+----------------------+\n",
            "                                                                               \n",
            "+-----------------------------------------------------------------------------+\n",
            "| Processes:                                                                  |\n",
            "|  GPU   GI   CI        PID   Type   Process name                  GPU Memory |\n",
            "|        ID   ID                                                   Usage      |\n",
            "|=============================================================================|\n",
            "|  No running processes found                                                 |\n",
            "+-----------------------------------------------------------------------------+\n"
          ]
        }
      ]
    },
    {
      "cell_type": "markdown",
      "metadata": {
        "id": "ojBhqZnVM6O3"
      },
      "source": [
        "# Installs"
      ]
    },
    {
      "cell_type": "code",
      "source": [
        "from google.colab import drive\n",
        "drive.mount('/content/gdrive')"
      ],
      "metadata": {
        "id": "tFpSxPStfutY",
        "colab": {
          "base_uri": "https://localhost:8080/"
        },
        "outputId": "df7d5294-a1fb-4625-e50b-04aba679e17e"
      },
      "execution_count": 1,
      "outputs": [
        {
          "output_type": "stream",
          "name": "stdout",
          "text": [
            "Mounted at /content/gdrive\n"
          ]
        }
      ]
    },
    {
      "cell_type": "code",
      "execution_count": null,
      "metadata": {
        "id": "Ofi1NwX0VRWG"
      },
      "outputs": [],
      "source": [
        "!pip install arcgis==1.8.5.post3\n",
        "!pip install transformers==3.3.0\n",
        "!pip install imblearn"
      ]
    },
    {
      "cell_type": "code",
      "source": [
        "akzo_gdrive = '/content/gdrive/MyDrive/akzo_models/Additives_ner_ktp_specific_test'"
      ],
      "metadata": {
        "id": "9ayvYBqMfvE_"
      },
      "execution_count": 19,
      "outputs": []
    },
    {
      "cell_type": "markdown",
      "metadata": {
        "id": "RmfwDz-NpcPq"
      },
      "source": [
        "# Imports"
      ]
    },
    {
      "cell_type": "code",
      "execution_count": 1,
      "metadata": {
        "id": "r_sUB2GIQeer"
      },
      "outputs": [],
      "source": [
        "%load_ext autoreload"
      ]
    },
    {
      "cell_type": "code",
      "execution_count": 2,
      "metadata": {
        "id": "5HlWGRwCQg8N"
      },
      "outputs": [],
      "source": [
        "%autoreload 2"
      ]
    },
    {
      "cell_type": "code",
      "execution_count": 3,
      "metadata": {
        "colab": {
          "base_uri": "https://localhost:8080/"
        },
        "id": "tpp2ZCU0fql6",
        "outputId": "a57bce0c-2cb2-43e5-cf2e-d998e9b53241"
      },
      "outputs": [
        {
          "output_type": "stream",
          "name": "stdout",
          "text": [
            "Cloning into 'temp_del1'...\n",
            "remote: Enumerating objects: 100, done.\u001b[K\n",
            "remote: Counting objects: 100% (100/100), done.\u001b[K\n",
            "remote: Compressing objects: 100% (74/74), done.\u001b[K\n",
            "remote: Total 100 (delta 34), reused 80 (delta 17), pack-reused 0\u001b[K\n",
            "Receiving objects: 100% (100/100), 31.39 MiB | 28.47 MiB/s, done.\n",
            "Resolving deltas: 100% (34/34), done.\n"
          ]
        }
      ],
      "source": [
        "!git clone https://github.com/akhilnegi/temp_del.git temp_del1\n",
        "!cp /content/temp_del1/ner_file/_ner_spacy.py  /usr/local/lib/python3.7/dist-packages/arcgis/learn/text/_ner_spacy.py\n",
        "!cp /content/temp_del1/point_cnn_file/_pointcnn_utils.py  /usr/local/lib/python3.7/dist-packages/arcgis/learn/models/_pointcnn_utils.py\n",
        "\n"
      ]
    },
    {
      "cell_type": "code",
      "execution_count": 4,
      "metadata": {
        "id": "jE-s52P1LwiH",
        "colab": {
          "base_uri": "https://localhost:8080/"
        },
        "outputId": "1b4779fb-26e0-4bef-c9ee-da2fba8391b0"
      },
      "outputs": [
        {
          "output_type": "stream",
          "name": "stderr",
          "text": [
            "/usr/local/lib/python3.7/dist-packages/torchvision/models/segmentation/segmentation.py:8: UserWarning: The 'torchvision.models.segmentation.segmentation' module is deprecated since 0.12 and will be removed in 0.14. Please use the 'torchvision.models.segmentation' directly instead.\n",
            "  \"The 'torchvision.models.segmentation.segmentation' module is deprecated since 0.12 and will be removed in \"\n"
          ]
        }
      ],
      "source": [
        "from arcgis.learn.text import TextClassifier, EntityRecognizer\n",
        "from arcgis.learn import prepare_data, prepare_textdata\n",
        "import json, os\n",
        "import pandas as pd"
      ]
    },
    {
      "cell_type": "markdown",
      "metadata": {
        "id": "QYURDuhmNFyv"
      },
      "source": [
        "# NER for extracting TDS properties"
      ]
    },
    {
      "cell_type": "markdown",
      "metadata": {
        "id": "IH6FI4MvOVhM"
      },
      "source": [
        "## Preparing data for arcgis NER"
      ]
    },
    {
      "cell_type": "code",
      "source": [
        "df = pd.read_excel('/content/temp_del1/additives/stratified_batch/additives_sample_data_classification.xlsx')"
      ],
      "metadata": {
        "id": "ZaALHoyXo1Ym"
      },
      "execution_count": 5,
      "outputs": []
    },
    {
      "cell_type": "code",
      "source": [
        "df.head(1)"
      ],
      "metadata": {
        "colab": {
          "base_uri": "https://localhost:8080/",
          "height": 142
        },
        "id": "86X5IgS0ZiQR",
        "outputId": "5df93087-cae9-4e77-c2fe-07feb4f09e26"
      },
      "execution_count": 6,
      "outputs": [
        {
          "output_type": "execute_result",
          "data": {
            "text/plain": [
              "                      filename    from  pn   x_min   y_min   x_max   y_max  \\\n",
              "0  1C002 TDS Avebe 010910.json  table0   0  1.4207  3.3967  7.1372  3.6948   \n",
              "\n",
              "  large_doc       class classification_text        ner_text  \\\n",
              "0       NaN  irrelevant      Requirements |  Requirements |   \n",
              "\n",
              "                                jsonl_data  \n",
              "0  {'data': 'Requirements |', 'label': []}  "
            ],
            "text/html": [
              "\n",
              "  <div id=\"df-2ec9f4f9-0884-4c1b-a70a-ebe2c7f3086f\">\n",
              "    <div class=\"colab-df-container\">\n",
              "      <div>\n",
              "<style scoped>\n",
              "    .dataframe tbody tr th:only-of-type {\n",
              "        vertical-align: middle;\n",
              "    }\n",
              "\n",
              "    .dataframe tbody tr th {\n",
              "        vertical-align: top;\n",
              "    }\n",
              "\n",
              "    .dataframe thead th {\n",
              "        text-align: right;\n",
              "    }\n",
              "</style>\n",
              "<table border=\"1\" class=\"dataframe\">\n",
              "  <thead>\n",
              "    <tr style=\"text-align: right;\">\n",
              "      <th></th>\n",
              "      <th>filename</th>\n",
              "      <th>from</th>\n",
              "      <th>pn</th>\n",
              "      <th>x_min</th>\n",
              "      <th>y_min</th>\n",
              "      <th>x_max</th>\n",
              "      <th>y_max</th>\n",
              "      <th>large_doc</th>\n",
              "      <th>class</th>\n",
              "      <th>classification_text</th>\n",
              "      <th>ner_text</th>\n",
              "      <th>jsonl_data</th>\n",
              "    </tr>\n",
              "  </thead>\n",
              "  <tbody>\n",
              "    <tr>\n",
              "      <th>0</th>\n",
              "      <td>1C002 TDS Avebe 010910.json</td>\n",
              "      <td>table0</td>\n",
              "      <td>0</td>\n",
              "      <td>1.4207</td>\n",
              "      <td>3.3967</td>\n",
              "      <td>7.1372</td>\n",
              "      <td>3.6948</td>\n",
              "      <td>NaN</td>\n",
              "      <td>irrelevant</td>\n",
              "      <td>Requirements |</td>\n",
              "      <td>Requirements |</td>\n",
              "      <td>{'data': 'Requirements |', 'label': []}</td>\n",
              "    </tr>\n",
              "  </tbody>\n",
              "</table>\n",
              "</div>\n",
              "      <button class=\"colab-df-convert\" onclick=\"convertToInteractive('df-2ec9f4f9-0884-4c1b-a70a-ebe2c7f3086f')\"\n",
              "              title=\"Convert this dataframe to an interactive table.\"\n",
              "              style=\"display:none;\">\n",
              "        \n",
              "  <svg xmlns=\"http://www.w3.org/2000/svg\" height=\"24px\"viewBox=\"0 0 24 24\"\n",
              "       width=\"24px\">\n",
              "    <path d=\"M0 0h24v24H0V0z\" fill=\"none\"/>\n",
              "    <path d=\"M18.56 5.44l.94 2.06.94-2.06 2.06-.94-2.06-.94-.94-2.06-.94 2.06-2.06.94zm-11 1L8.5 8.5l.94-2.06 2.06-.94-2.06-.94L8.5 2.5l-.94 2.06-2.06.94zm10 10l.94 2.06.94-2.06 2.06-.94-2.06-.94-.94-2.06-.94 2.06-2.06.94z\"/><path d=\"M17.41 7.96l-1.37-1.37c-.4-.4-.92-.59-1.43-.59-.52 0-1.04.2-1.43.59L10.3 9.45l-7.72 7.72c-.78.78-.78 2.05 0 2.83L4 21.41c.39.39.9.59 1.41.59.51 0 1.02-.2 1.41-.59l7.78-7.78 2.81-2.81c.8-.78.8-2.07 0-2.86zM5.41 20L4 18.59l7.72-7.72 1.47 1.35L5.41 20z\"/>\n",
              "  </svg>\n",
              "      </button>\n",
              "      \n",
              "  <style>\n",
              "    .colab-df-container {\n",
              "      display:flex;\n",
              "      flex-wrap:wrap;\n",
              "      gap: 12px;\n",
              "    }\n",
              "\n",
              "    .colab-df-convert {\n",
              "      background-color: #E8F0FE;\n",
              "      border: none;\n",
              "      border-radius: 50%;\n",
              "      cursor: pointer;\n",
              "      display: none;\n",
              "      fill: #1967D2;\n",
              "      height: 32px;\n",
              "      padding: 0 0 0 0;\n",
              "      width: 32px;\n",
              "    }\n",
              "\n",
              "    .colab-df-convert:hover {\n",
              "      background-color: #E2EBFA;\n",
              "      box-shadow: 0px 1px 2px rgba(60, 64, 67, 0.3), 0px 1px 3px 1px rgba(60, 64, 67, 0.15);\n",
              "      fill: #174EA6;\n",
              "    }\n",
              "\n",
              "    [theme=dark] .colab-df-convert {\n",
              "      background-color: #3B4455;\n",
              "      fill: #D2E3FC;\n",
              "    }\n",
              "\n",
              "    [theme=dark] .colab-df-convert:hover {\n",
              "      background-color: #434B5C;\n",
              "      box-shadow: 0px 1px 3px 1px rgba(0, 0, 0, 0.15);\n",
              "      filter: drop-shadow(0px 1px 2px rgba(0, 0, 0, 0.3));\n",
              "      fill: #FFFFFF;\n",
              "    }\n",
              "  </style>\n",
              "\n",
              "      <script>\n",
              "        const buttonEl =\n",
              "          document.querySelector('#df-2ec9f4f9-0884-4c1b-a70a-ebe2c7f3086f button.colab-df-convert');\n",
              "        buttonEl.style.display =\n",
              "          google.colab.kernel.accessAllowed ? 'block' : 'none';\n",
              "\n",
              "        async function convertToInteractive(key) {\n",
              "          const element = document.querySelector('#df-2ec9f4f9-0884-4c1b-a70a-ebe2c7f3086f');\n",
              "          const dataTable =\n",
              "            await google.colab.kernel.invokeFunction('convertToInteractive',\n",
              "                                                     [key], {});\n",
              "          if (!dataTable) return;\n",
              "\n",
              "          const docLinkHtml = 'Like what you see? Visit the ' +\n",
              "            '<a target=\"_blank\" href=https://colab.research.google.com/notebooks/data_table.ipynb>data table notebook</a>'\n",
              "            + ' to learn more about interactive tables.';\n",
              "          element.innerHTML = '';\n",
              "          dataTable['output_type'] = 'display_data';\n",
              "          await google.colab.output.renderOutput(dataTable, element);\n",
              "          const docLink = document.createElement('div');\n",
              "          docLink.innerHTML = docLinkHtml;\n",
              "          element.appendChild(docLink);\n",
              "        }\n",
              "      </script>\n",
              "    </div>\n",
              "  </div>\n",
              "  "
            ]
          },
          "metadata": {},
          "execution_count": 6
        }
      ]
    },
    {
      "cell_type": "code",
      "source": [
        "df['class_'] = df['class']\n",
        "df['label'] = df['class']"
      ],
      "metadata": {
        "id": "OJ9go_S2o3g1"
      },
      "execution_count": 7,
      "outputs": []
    },
    {
      "cell_type": "code",
      "source": [
        "df = df[df.label.apply(lambda x: x in ['viscosity', 'particle_size', 'density', 'color', 'ph', 'solid_content',\n",
        "       'hydroxyl_value', 'acid_content', 'cas_number', 'active_%', 'stray', 'water_miscibility', 'multi',\n",
        "       'molecular_weight', 'flash_point', 'boiling_point', 'absorption_wavelength'])]"
      ],
      "metadata": {
        "id": "7ffHYpTmkeoF"
      },
      "execution_count": 8,
      "outputs": []
    },
    {
      "cell_type": "code",
      "source": [
        "df.label.unique()"
      ],
      "metadata": {
        "id": "zHhSDlRVPpxZ",
        "colab": {
          "base_uri": "https://localhost:8080/"
        },
        "outputId": "23f23b9a-aab4-439a-d628-056a55d0907d"
      },
      "execution_count": 9,
      "outputs": [
        {
          "output_type": "execute_result",
          "data": {
            "text/plain": [
              "array(['viscosity', 'particle_size', 'density', 'color', 'ph', 'solid_content', 'hydroxyl_value', 'acid_content',\n",
              "       'cas_number', 'active_%', 'stray', 'water_miscibility', 'multi', 'molecular_weight', 'flash_point',\n",
              "       'boiling_point', 'absorption_wavelength'], dtype=object)"
            ]
          },
          "metadata": {},
          "execution_count": 9
        }
      ]
    },
    {
      "cell_type": "code",
      "source": [
        "from collections import Counter\n",
        "Counter(df.label)"
      ],
      "metadata": {
        "colab": {
          "base_uri": "https://localhost:8080/"
        },
        "id": "Yao3ZpwVQPz3",
        "outputId": "c161e090-84cf-4cd8-f876-8cdf121e8079"
      },
      "execution_count": 10,
      "outputs": [
        {
          "output_type": "execute_result",
          "data": {
            "text/plain": [
              "Counter({'absorption_wavelength': 5,\n",
              "         'acid_content': 115,\n",
              "         'active_%': 104,\n",
              "         'boiling_point': 37,\n",
              "         'cas_number': 99,\n",
              "         'color': 473,\n",
              "         'density': 466,\n",
              "         'flash_point': 90,\n",
              "         'hydroxyl_value': 32,\n",
              "         'molecular_weight': 66,\n",
              "         'multi': 34,\n",
              "         'particle_size': 203,\n",
              "         'ph': 152,\n",
              "         'solid_content': 91,\n",
              "         'stray': 107,\n",
              "         'viscosity': 271,\n",
              "         'water_miscibility': 44})"
            ]
          },
          "metadata": {},
          "execution_count": 10
        }
      ]
    },
    {
      "cell_type": "code",
      "source": [
        "from imblearn.over_sampling import  RandomOverSampler\n",
        "import numpy as np\n",
        "import random\n",
        "\n",
        "class_oversampling = {}\n",
        "for label in df.label.unique():\n",
        "  if label.lower() in ['irrelevant', 'header', 'multi', 'multi_header', 'measuring_condition']:\n",
        "    continue\n",
        "  class_oversampling[label.lower()]=271\n",
        "class_oversampling = {'absorption_wavelength': 100,\n",
        "         'acid_content': 115,\n",
        "         'active_%': 104,\n",
        "         'boiling_point': 100,\n",
        "         'cas_number': 99,\n",
        "         'color': 473,\n",
        "         'density': 466,\n",
        "         'flash_point': 90,\n",
        "         'hydroxyl_value': 100,\n",
        "         'molecular_weight': 66,\n",
        "         'multi': 100,\n",
        "         'particle_size': 203,\n",
        "         'ph': 152,\n",
        "         'solid_content': 91,\n",
        "         'stray': 107,\n",
        "         'viscosity': 271,\n",
        "         'water_miscibility': 100}\n",
        "oversample = RandomOverSampler(sampling_strategy=class_oversampling, random_state=1)"
      ],
      "metadata": {
        "id": "0wQAnBymkL-q"
      },
      "execution_count": 11,
      "outputs": []
    },
    {
      "cell_type": "code",
      "execution_count": 12,
      "metadata": {
        "id": "Sv0zZiwanBrb"
      },
      "outputs": [],
      "source": [
        "#oversampling data\n",
        "X_over, y_over = oversample.fit_resample(np.array(df.jsonl_data.to_list()).reshape(-1,1), df.label.apply(str.lower).to_list())"
      ]
    },
    {
      "cell_type": "code",
      "source": [
        "df_oversampled_ner = pd.DataFrame(columns=['jsonl_data','class_'])\n",
        "df_oversampled_ner.jsonl_data = X_over.reshape(-1)\n",
        "df_oversampled_ner.class_ = y_over"
      ],
      "metadata": {
        "id": "B_5dXlmtaCkK"
      },
      "execution_count": 13,
      "outputs": []
    },
    {
      "cell_type": "code",
      "source": [
        "df_oversampled_ner.class_.unique()"
      ],
      "metadata": {
        "id": "AdsdiXS7o5MF",
        "colab": {
          "base_uri": "https://localhost:8080/"
        },
        "outputId": "095f036c-4951-40b9-e78e-abae05209c7c"
      },
      "execution_count": 14,
      "outputs": [
        {
          "output_type": "execute_result",
          "data": {
            "text/plain": [
              "array(['viscosity', 'particle_size', 'density', 'color', 'ph', 'solid_content', 'hydroxyl_value', 'acid_content',\n",
              "       'cas_number', 'active_%', 'stray', 'water_miscibility', 'multi', 'molecular_weight', 'flash_point',\n",
              "       'boiling_point', 'absorption_wavelength'], dtype=object)"
            ]
          },
          "metadata": {},
          "execution_count": 14
        }
      ]
    },
    {
      "cell_type": "code",
      "source": [
        "df_oversampled_ner[df_oversampled_ner.class_=='absorption_wavelength']"
      ],
      "metadata": {
        "colab": {
          "base_uri": "https://localhost:8080/",
          "height": 424
        },
        "id": "rVpKeiL2pEXm",
        "outputId": "ff9535f1-5504-4fd7-f17b-c84576a07436"
      },
      "execution_count": 15,
      "outputs": [
        {
          "output_type": "execute_result",
          "data": {
            "text/plain": [
              "                                             jsonl_data                 class_\n",
              "1129  {'data': '1.3 | Light Absorbance | Ph. Eur. ( ...  absorption_wavelength\n",
              "1326  {'data': ' | DOP absorption ( ISO 787 / 5 ) | ...  absorption_wavelength\n",
              "2106  {'data': 'Absorption ( nm ) : | 252 - 325 | 25...  absorption_wavelength\n",
              "2114  {'data': 'Absorption: | 248 nm', 'label': [[14...  absorption_wavelength\n",
              "2140  {'data': 'Transmittance @ 500 nm | Spectrophot...  absorption_wavelength\n",
              "...                                                 ...                    ...\n",
              "2479  {'data': 'Transmittance @ 500 nm | Spectrophot...  absorption_wavelength\n",
              "2480  {'data': 'Transmittance @ 500 nm | Spectrophot...  absorption_wavelength\n",
              "2481  {'data': ' | DOP absorption ( ISO 787 / 5 ) | ...  absorption_wavelength\n",
              "2482  {'data': '1.3 | Light Absorbance | Ph. Eur. ( ...  absorption_wavelength\n",
              "2483  {'data': 'Transmittance @ 500 nm | Spectrophot...  absorption_wavelength\n",
              "\n",
              "[100 rows x 2 columns]"
            ],
            "text/html": [
              "\n",
              "  <div id=\"df-88ee0d3c-f249-48e3-9ee1-330d6daf73ae\">\n",
              "    <div class=\"colab-df-container\">\n",
              "      <div>\n",
              "<style scoped>\n",
              "    .dataframe tbody tr th:only-of-type {\n",
              "        vertical-align: middle;\n",
              "    }\n",
              "\n",
              "    .dataframe tbody tr th {\n",
              "        vertical-align: top;\n",
              "    }\n",
              "\n",
              "    .dataframe thead th {\n",
              "        text-align: right;\n",
              "    }\n",
              "</style>\n",
              "<table border=\"1\" class=\"dataframe\">\n",
              "  <thead>\n",
              "    <tr style=\"text-align: right;\">\n",
              "      <th></th>\n",
              "      <th>jsonl_data</th>\n",
              "      <th>class_</th>\n",
              "    </tr>\n",
              "  </thead>\n",
              "  <tbody>\n",
              "    <tr>\n",
              "      <th>1129</th>\n",
              "      <td>{'data': '1.3 | Light Absorbance | Ph. Eur. ( ...</td>\n",
              "      <td>absorption_wavelength</td>\n",
              "    </tr>\n",
              "    <tr>\n",
              "      <th>1326</th>\n",
              "      <td>{'data': ' | DOP absorption ( ISO 787 / 5 ) | ...</td>\n",
              "      <td>absorption_wavelength</td>\n",
              "    </tr>\n",
              "    <tr>\n",
              "      <th>2106</th>\n",
              "      <td>{'data': 'Absorption ( nm ) : | 252 - 325 | 25...</td>\n",
              "      <td>absorption_wavelength</td>\n",
              "    </tr>\n",
              "    <tr>\n",
              "      <th>2114</th>\n",
              "      <td>{'data': 'Absorption: | 248 nm', 'label': [[14...</td>\n",
              "      <td>absorption_wavelength</td>\n",
              "    </tr>\n",
              "    <tr>\n",
              "      <th>2140</th>\n",
              "      <td>{'data': 'Transmittance @ 500 nm | Spectrophot...</td>\n",
              "      <td>absorption_wavelength</td>\n",
              "    </tr>\n",
              "    <tr>\n",
              "      <th>...</th>\n",
              "      <td>...</td>\n",
              "      <td>...</td>\n",
              "    </tr>\n",
              "    <tr>\n",
              "      <th>2479</th>\n",
              "      <td>{'data': 'Transmittance @ 500 nm | Spectrophot...</td>\n",
              "      <td>absorption_wavelength</td>\n",
              "    </tr>\n",
              "    <tr>\n",
              "      <th>2480</th>\n",
              "      <td>{'data': 'Transmittance @ 500 nm | Spectrophot...</td>\n",
              "      <td>absorption_wavelength</td>\n",
              "    </tr>\n",
              "    <tr>\n",
              "      <th>2481</th>\n",
              "      <td>{'data': ' | DOP absorption ( ISO 787 / 5 ) | ...</td>\n",
              "      <td>absorption_wavelength</td>\n",
              "    </tr>\n",
              "    <tr>\n",
              "      <th>2482</th>\n",
              "      <td>{'data': '1.3 | Light Absorbance | Ph. Eur. ( ...</td>\n",
              "      <td>absorption_wavelength</td>\n",
              "    </tr>\n",
              "    <tr>\n",
              "      <th>2483</th>\n",
              "      <td>{'data': 'Transmittance @ 500 nm | Spectrophot...</td>\n",
              "      <td>absorption_wavelength</td>\n",
              "    </tr>\n",
              "  </tbody>\n",
              "</table>\n",
              "<p>100 rows × 2 columns</p>\n",
              "</div>\n",
              "      <button class=\"colab-df-convert\" onclick=\"convertToInteractive('df-88ee0d3c-f249-48e3-9ee1-330d6daf73ae')\"\n",
              "              title=\"Convert this dataframe to an interactive table.\"\n",
              "              style=\"display:none;\">\n",
              "        \n",
              "  <svg xmlns=\"http://www.w3.org/2000/svg\" height=\"24px\"viewBox=\"0 0 24 24\"\n",
              "       width=\"24px\">\n",
              "    <path d=\"M0 0h24v24H0V0z\" fill=\"none\"/>\n",
              "    <path d=\"M18.56 5.44l.94 2.06.94-2.06 2.06-.94-2.06-.94-.94-2.06-.94 2.06-2.06.94zm-11 1L8.5 8.5l.94-2.06 2.06-.94-2.06-.94L8.5 2.5l-.94 2.06-2.06.94zm10 10l.94 2.06.94-2.06 2.06-.94-2.06-.94-.94-2.06-.94 2.06-2.06.94z\"/><path d=\"M17.41 7.96l-1.37-1.37c-.4-.4-.92-.59-1.43-.59-.52 0-1.04.2-1.43.59L10.3 9.45l-7.72 7.72c-.78.78-.78 2.05 0 2.83L4 21.41c.39.39.9.59 1.41.59.51 0 1.02-.2 1.41-.59l7.78-7.78 2.81-2.81c.8-.78.8-2.07 0-2.86zM5.41 20L4 18.59l7.72-7.72 1.47 1.35L5.41 20z\"/>\n",
              "  </svg>\n",
              "      </button>\n",
              "      \n",
              "  <style>\n",
              "    .colab-df-container {\n",
              "      display:flex;\n",
              "      flex-wrap:wrap;\n",
              "      gap: 12px;\n",
              "    }\n",
              "\n",
              "    .colab-df-convert {\n",
              "      background-color: #E8F0FE;\n",
              "      border: none;\n",
              "      border-radius: 50%;\n",
              "      cursor: pointer;\n",
              "      display: none;\n",
              "      fill: #1967D2;\n",
              "      height: 32px;\n",
              "      padding: 0 0 0 0;\n",
              "      width: 32px;\n",
              "    }\n",
              "\n",
              "    .colab-df-convert:hover {\n",
              "      background-color: #E2EBFA;\n",
              "      box-shadow: 0px 1px 2px rgba(60, 64, 67, 0.3), 0px 1px 3px 1px rgba(60, 64, 67, 0.15);\n",
              "      fill: #174EA6;\n",
              "    }\n",
              "\n",
              "    [theme=dark] .colab-df-convert {\n",
              "      background-color: #3B4455;\n",
              "      fill: #D2E3FC;\n",
              "    }\n",
              "\n",
              "    [theme=dark] .colab-df-convert:hover {\n",
              "      background-color: #434B5C;\n",
              "      box-shadow: 0px 1px 3px 1px rgba(0, 0, 0, 0.15);\n",
              "      filter: drop-shadow(0px 1px 2px rgba(0, 0, 0, 0.3));\n",
              "      fill: #FFFFFF;\n",
              "    }\n",
              "  </style>\n",
              "\n",
              "      <script>\n",
              "        const buttonEl =\n",
              "          document.querySelector('#df-88ee0d3c-f249-48e3-9ee1-330d6daf73ae button.colab-df-convert');\n",
              "        buttonEl.style.display =\n",
              "          google.colab.kernel.accessAllowed ? 'block' : 'none';\n",
              "\n",
              "        async function convertToInteractive(key) {\n",
              "          const element = document.querySelector('#df-88ee0d3c-f249-48e3-9ee1-330d6daf73ae');\n",
              "          const dataTable =\n",
              "            await google.colab.kernel.invokeFunction('convertToInteractive',\n",
              "                                                     [key], {});\n",
              "          if (!dataTable) return;\n",
              "\n",
              "          const docLinkHtml = 'Like what you see? Visit the ' +\n",
              "            '<a target=\"_blank\" href=https://colab.research.google.com/notebooks/data_table.ipynb>data table notebook</a>'\n",
              "            + ' to learn more about interactive tables.';\n",
              "          element.innerHTML = '';\n",
              "          dataTable['output_type'] = 'display_data';\n",
              "          await google.colab.output.renderOutput(dataTable, element);\n",
              "          const docLink = document.createElement('div');\n",
              "          docLink.innerHTML = docLinkHtml;\n",
              "          element.appendChild(docLink);\n",
              "        }\n",
              "      </script>\n",
              "    </div>\n",
              "  </div>\n",
              "  "
            ]
          },
          "metadata": {},
          "execution_count": 15
        }
      ]
    },
    {
      "cell_type": "markdown",
      "source": [
        "## KTP based NER"
      ],
      "metadata": {
        "id": "67JGURzTpY9g"
      }
    },
    {
      "cell_type": "code",
      "source": [
        "for ktp in df_oversampled_ner.class_.unique():\n",
        "  json_path = f'/content/{ktp}_jsonl_data_lm.jsonl'\n",
        "  updated_json_path = f'/content/{ktp}_jsonl_data_lm.jsonl'\n",
        "  with open(json_path,'a') as f:\n",
        "    for tup in df_oversampled_ner[df_oversampled_ner.class_==ktp].itertuples():\n",
        "          f.write(f'{tup.jsonl_data}\\n')\n",
        "  with open(json_path) as f:\n",
        "    json_list = f.readlines()\n",
        "  for i,json_txt in enumerate(json_list):\n",
        "    json_dict = eval(json_txt.replace('\\n',''))\n",
        "    json_dict['text']=json_dict.pop('data')\n",
        "    json_dict['labels'] = json_dict.pop('label')\n",
        "    json_list[i] = json.dumps(json_dict)\n",
        "  if os.path.exists(updated_json_path):\n",
        "    os.remove(updated_json_path)\n",
        "  for item in json_list:\n",
        "      with open(updated_json_path, 'a') as f:\n",
        "          f.write(item+'\\n')"
      ],
      "metadata": {
        "id": "1xjcOh1npeFD"
      },
      "execution_count": 17,
      "outputs": []
    },
    {
      "cell_type": "code",
      "source": [
        "import glob\n",
        "for updated_json_path in glob.glob('/content/*.jsonl'):\n",
        "  ktp = updated_json_path.split('_jsonl_data_lm.jsonl')[0].split('/')[-1]\n",
        "  print(ktp)\n",
        "  data = prepare_data(path=updated_json_path, dataset_type='ner_json')#, batch_size=1)\n",
        "  model = EntityRecognizer(data)\n",
        "  lr = model.lr_find()\n",
        "  model.fit(epochs=30, lr=lr)\n",
        "  model.save(f'{akzo_gdrive}/additives_strativied_ner_spacy_model_v1_{ktp}', compute_metrics=False)\n",
        "\n",
        "\n"
      ],
      "metadata": {
        "id": "XLze-LQGpv1D"
      },
      "execution_count": null,
      "outputs": []
    },
    {
      "cell_type": "code",
      "source": [
        ""
      ],
      "metadata": {
        "id": "nc3t6P0ByqSo"
      },
      "execution_count": null,
      "outputs": []
    }
  ],
  "metadata": {
    "colab": {
      "collapsed_sections": [],
      "name": "akzo_nobel_text_models.ipynb",
      "provenance": []
    },
    "kernelspec": {
      "display_name": "Python 3",
      "name": "python3"
    },
    "language_info": {
      "name": "python"
    },
    "accelerator": "GPU"
  },
  "nbformat": 4,
  "nbformat_minor": 0
}